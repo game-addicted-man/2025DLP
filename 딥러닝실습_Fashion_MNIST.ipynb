{
  "nbformat": 4,
  "nbformat_minor": 0,
  "metadata": {
    "colab": {
      "provenance": [],
      "toc_visible": true,
      "include_colab_link": true
    },
    "kernelspec": {
      "name": "python3",
      "display_name": "Python 3"
    },
    "language_info": {
      "name": "python"
    }
  },
  "cells": [
    {
      "cell_type": "markdown",
      "metadata": {
        "id": "view-in-github",
        "colab_type": "text"
      },
      "source": [
        "<a href=\"https://colab.research.google.com/github/game-addicted-man/2025DLP/blob/main/%EB%94%A5%EB%9F%AC%EB%8B%9D%EC%8B%A4%EC%8A%B5_Fashion_MNIST.ipynb\" target=\"_parent\"><img src=\"https://colab.research.google.com/assets/colab-badge.svg\" alt=\"Open In Colab\"/></a>"
      ]
    },
    {
      "cell_type": "markdown",
      "source": [
        "# Fashion MNIST\n",
        "by uramoon@kw.ac.kr (<a href=\"https://raw.githubusercontent.com/ronreiter/interactive-tutorials/master/LICENSE\">Apache 2.0 License</a>)\n",
        "\n",
        "Fashion MNIST는 MNIST와 동일한 입출력 구조를 지니고 있으나 숫자 대신 의류의 종류를 예측합니다.\n",
        "\n",
        "This is a dataset of 60,000 28x28 grayscale images of 10 fashion categories, along with a test set of 10,000 images. This dataset can be used as a drop-in replacement for MNIST.\n",
        "\n",
        "The classes are:\n",
        "\n",
        "0:\tT-shirt/top\n",
        "1:\tTrouser\n",
        "2:\tPullover\n",
        "3:\tDress\n",
        "4:\tCoat\n",
        "5:\tSandal\n",
        "6:\tShirt\n",
        "7:\tSneaker\n",
        "8:\tBag\n",
        "9:\tAnkle boot"
      ],
      "metadata": {
        "id": "NwO-ecrU9AM9"
      }
    },
    {
      "cell_type": "code",
      "source": [
        "# 데이터셋 불러오기\n",
        "from keras.datasets import fashion_mnist\n",
        "(train_images, train_labels), (test_images, test_labels) = fashion_mnist.load_data()"
      ],
      "metadata": {
        "id": "B1OaRlMf9jRU"
      },
      "execution_count": 14,
      "outputs": []
    },
    {
      "cell_type": "markdown",
      "source": [
        "## TODO 1: 훈련 데이터 살펴보기\n",
        "\n",
        "1. 훈련 데이터의 처음 세 장을 그려보세요."
      ],
      "metadata": {
        "id": "EqBkp2ez9fQ8"
      }
    },
    {
      "cell_type": "code",
      "execution_count": 5,
      "metadata": {
        "id": "hEkGwLFZ87ld",
        "colab": {
          "base_uri": "https://localhost:8080/",
          "height": 234
        },
        "outputId": "82bc9cb4-1615-444f-fc0a-2247958335a9"
      },
      "outputs": [
        {
          "output_type": "display_data",
          "data": {
            "text/plain": [
              "<Figure size 1500x1000 with 3 Axes>"
            ],
            "image/png": "[encoded data removed]"
          },
          "metadata": {}
        }
      ],
      "source": [
        "# TODO: 아래 빈 칸을 채우세요.\n",
        "import matplotlib.pyplot as plt\n",
        "class_names = ['T-shirt/top', 'Trouser', 'Pullover', 'Dress', 'Coat', 'Sandal', 'Shirt', 'Sneaker', 'Bag', 'Ankle boot']\n",
        "\n",
        "plt.figure(figsize=(15, 10))\n",
        "for idx in range(3):\n",
        "  plt.subplot(1, 3, idx+1)        # 행은 1개, 열은 3개, 몇 번째 그림을 그릴 것인지 기재 (1부터 시작하는 숫자)\n",
        "  plt.imshow(train_images[idx], cmap='gray')  # 이미지 흑백으로 그리기\n",
        "  plt.title(class_names[train_labels[idx]])                # 상기 class_names를 활용하여 그림 제목으로 정답(label)을 표시해보세요. 예: 숫자가 아닌 Shirt, Bag 등\n",
        "  plt.axis('off')\n",
        "plt.show()"
      ]
    },
    {
      "cell_type": "markdown",
      "source": [
        "## TODO 2: 데이터 전처리 (모양 바꾸기, 정규화, 레이블 변환[선택])\n",
        "레이블 변환을 수행하지 않을 경우 TODO3의 loss에 'categorical_crossentropy' 대신 'sparse_categorical_crossentropy'를 사용해야 합니다."
      ],
      "metadata": {
        "id": "B3TOlelE-xcp"
      }
    },
    {
      "cell_type": "code",
      "source": [
        "train_images = train_images.reshape((-1, 28, 28, 1))\n",
        "test_images = test_images.reshape((-1, 28, 28, 1))\n",
        "train_images = train_images / 255.0\n",
        "test_images = test_images / 255.0\n"
      ],
      "metadata": {
        "id": "iA2028gB_ADz"
      },
      "execution_count": 15,
      "outputs": []
    },
    {
      "cell_type": "markdown",
      "source": [
        "## TODO 3: 모델 훈련 (모델 생성, compile, fit, evaluate)\n",
        "테스트 데이터에 대해 88% 이상의 정확도를 보이는 모델을 만들어 보세요."
      ],
      "metadata": {
        "id": "LhIzvWKy_IdS"
      }
    },
    {
      "cell_type": "code",
      "source": [
        "from keras import models\n",
        "from keras import layers\n",
        "# 모델 구성\n",
        "network = models.Sequential()\n",
        "network.add(layers.Input(shape=(28, 28, 1)))\n",
        "network.add(layers.Flatten())\n",
        "network.add(layers.Dense(1024, activation='relu'))\n",
        "network.add(layers.Dropout(0.3))  # 과적합 방지용\n",
        "network.add(layers.Dense(512, activation='relu'))\n",
        "network.add(layers.Dense(10, activation='softmax'))\n",
        "\n",
        "# 모델 컴파일\n",
        "network.compile(optimizer='adam',\n",
        "                loss='sparse_categorical_crossentropy',\n",
        "                metrics=['accuracy'])\n",
        "\n",
        "# 모델 학습\n",
        "network.fit(train_images, train_labels, epochs=10, batch_size=128, validation_split=0.1)\n",
        "\n",
        "# 모델 평가\n",
        "test_loss, test_acc = network.evaluate(test_images, test_labels)\n",
        "print('test_acc:', test_acc)"
      ],
      "metadata": {
        "id": "6mik0RUu_jqx",
        "colab": {
          "base_uri": "https://localhost:8080/"
        },
        "outputId": "ddbb6927-a000-4c6a-e8cf-436502b84bc4"
      },
      "execution_count": 16,
      "outputs": [
        {
          "output_type": "stream",
          "name": "stdout",
          "text": [
            "Epoch 1/10\n",
            "\u001b[1m422/422\u001b[0m \u001b[32m━━━━━━━━━━━━━━━━━━━━\u001b[0m\u001b[37m\u001b[0m \u001b[1m16s\u001b[0m 36ms/step - accuracy: 0.7562 - loss: 0.6744 - val_accuracy: 0.8555 - val_loss: 0.3926\n",
            "Epoch 2/10\n",
            "\u001b[1m422/422\u001b[0m \u001b[32m━━━━━━━━━━━━━━━━━━━━\u001b[0m\u001b[37m\u001b[0m \u001b[1m15s\u001b[0m 35ms/step - accuracy: 0.8543 - loss: 0.3932 - val_accuracy: 0.8728 - val_loss: 0.3546\n",
            "Epoch 3/10\n",
            "\u001b[1m422/422\u001b[0m \u001b[32m━━━━━━━━━━━━━━━━━━━━\u001b[0m\u001b[37m\u001b[0m \u001b[1m21s\u001b[0m 35ms/step - accuracy: 0.8677 - loss: 0.3541 - val_accuracy: 0.8662 - val_loss: 0.3531\n",
            "Epoch 4/10\n",
            "\u001b[1m422/422\u001b[0m \u001b[32m━━━━━━━━━━━━━━━━━━━━\u001b[0m\u001b[37m\u001b[0m \u001b[1m20s\u001b[0m 35ms/step - accuracy: 0.8802 - loss: 0.3252 - val_accuracy: 0.8667 - val_loss: 0.3701\n",
            "Epoch 5/10\n",
            "\u001b[1m422/422\u001b[0m \u001b[32m━━━━━━━━━━━━━━━━━━━━\u001b[0m\u001b[37m\u001b[0m \u001b[1m16s\u001b[0m 37ms/step - accuracy: 0.8826 - loss: 0.3193 - val_accuracy: 0.8773 - val_loss: 0.3377\n",
            "Epoch 6/10\n",
            "\u001b[1m422/422\u001b[0m \u001b[32m━━━━━━━━━━━━━━━━━━━━\u001b[0m\u001b[37m\u001b[0m \u001b[1m20s\u001b[0m 35ms/step - accuracy: 0.8869 - loss: 0.3008 - val_accuracy: 0.8760 - val_loss: 0.3377\n",
            "Epoch 7/10\n",
            "\u001b[1m422/422\u001b[0m \u001b[32m━━━━━━━━━━━━━━━━━━━━\u001b[0m\u001b[37m\u001b[0m \u001b[1m15s\u001b[0m 35ms/step - accuracy: 0.8890 - loss: 0.2956 - val_accuracy: 0.8852 - val_loss: 0.3143\n",
            "Epoch 8/10\n",
            "\u001b[1m422/422\u001b[0m \u001b[32m━━━━━━━━━━━━━━━━━━━━\u001b[0m\u001b[37m\u001b[0m \u001b[1m15s\u001b[0m 35ms/step - accuracy: 0.8909 - loss: 0.2853 - val_accuracy: 0.8820 - val_loss: 0.3213\n",
            "Epoch 9/10\n",
            "\u001b[1m422/422\u001b[0m \u001b[32m━━━━━━━━━━━━━━━━━━━━\u001b[0m\u001b[37m\u001b[0m \u001b[1m16s\u001b[0m 38ms/step - accuracy: 0.8992 - loss: 0.2726 - val_accuracy: 0.8858 - val_loss: 0.3032\n",
            "Epoch 10/10\n",
            "\u001b[1m422/422\u001b[0m \u001b[32m━━━━━━━━━━━━━━━━━━━━\u001b[0m\u001b[37m\u001b[0m \u001b[1m21s\u001b[0m 39ms/step - accuracy: 0.9000 - loss: 0.2609 - val_accuracy: 0.8855 - val_loss: 0.3193\n",
            "\u001b[1m313/313\u001b[0m \u001b[32m━━━━━━━━━━━━━━━━━━━━\u001b[0m\u001b[37m\u001b[0m \u001b[1m2s\u001b[0m 5ms/step - accuracy: 0.8794 - loss: 0.3379\n",
            "test_acc: 0.8804000020027161\n"
          ]
        }
      ]
    },
    {
      "cell_type": "markdown",
      "source": [
        "## TODO 4: 틀린 예제 확인하기\n",
        "TODO 3에서 만든 모델이 잘못 분류하는 그림을 테스트 데이터에서 하나 이상 찾아 그려보세요. <br>\n",
        "(원래 레이블과 모델이 예측한 레이블은 그림 제목에 표시)\n",
        "\n",
        "HInt: predict() 함수로 테스트 데이터에 대한 예측을 수행하고 예측값과 실제값을 비교하여 틀린 예제를 찾아내면 됩니다. predict() 함수는 test_images와 같이 여러 장의 그림이 저장된 배열 형태의 입력을 받습니다. [예: network.predict(test_images)]\n",
        "\n",
        "https://www.tensorflow.org/api_docs/python/tf/keras/Model#predict\n",
        "\n",
        "\n",
        "\n",
        "predict() 함수는 첫 번째 그림에 대한 예측, 두 번째 그림에 대한 예측, ..., 마지막 그림에 대한 예측을 배열로 반환합니다. 각 예측은 [0번 클래스인 T-shirt일 확률, 1번 클래스인 Trouser일 확률, ..., 9번 클래스인 Ankle boot일 확률]의 모양을 지니고 있습니다. 이중 가장 큰 확률을 지닌 인덱스를 꺼내고 싶으면 np.argmax()함수에 넣어주면 됩니다.\n",
        "\n",
        "https://numpy.org/doc/stable/reference/generated/numpy.argmax.html\n",
        "\n",
        "np.max() 함수는 배열에서 가장 큰 값을 반환하고 np.argmax() 함수는 배열에서 가장 큰 값을 지닌 인덱스를 반환하니 필요에 따라 잘 선택하여 사용합시다."
      ],
      "metadata": {
        "id": "Mmsyn3xHURoa"
      }
    },
    {
      "cell_type": "code",
      "source": [
        "import numpy as np\n",
        "import matplotlib.pyplot as plt\n",
        "\n",
        "class_names = ['T-shirt/top', 'Trouser', 'Pullover', 'Dress', 'Coat',\n",
        "               'Sandal', 'Shirt', 'Sneaker', 'Bag', 'Ankle boot']\n",
        "\n",
        "# 모델을 사용해 테스트 데이터 예측 (확률로 반환)\n",
        "pred_probs = network.predict(test_images)\n",
        "\n",
        "# 확률 중 가장 높은 인덱스를 예측 결과로 선택\n",
        "pred_labels = np.argmax(pred_probs, axis=1)\n",
        "\n",
        "# 실제 정답과 예측값이 다른 인덱스 추출\n",
        "wrong_indices = np.where(pred_labels != test_labels)[0]\n",
        "\n",
        "print(f\"잘못 분류한 테스트 이미지 개수: {len(wrong_indices)}개\")\n",
        "\n",
        "# 오답 중 5개를 시각화\n",
        "plt.figure(figsize=(15, 6))\n",
        "for i in range(5):\n",
        "    idx = wrong_indices[i]\n",
        "    plt.subplot(1, 5, i + 1)\n",
        "    # test_images는 (28, 28, 1)이므로 시각화를 위해 2D로 reshape\n",
        "    plt.imshow(test_images[idx].reshape(28, 28), cmap='gray')\n",
        "    true_label = class_names[test_labels[idx]]\n",
        "    predicted_label = class_names[pred_labels[idx]]\n",
        "    plt.title(f\"True: {true_label}\\nPred: {predicted_label}\", fontsize=10)\n",
        "    plt.axis('off')\n",
        "\n",
        "plt.tight_layout()\n",
        "plt.show()\n"
      ],
      "metadata": {
        "id": "SSJ93bbgUhpg",
        "colab": {
          "base_uri": "https://localhost:8080/",
          "height": 205
        },
        "outputId": "c767a8b3-5221-4f89-d882-25802d3ddf1c"
      },
      "execution_count": 17,
      "outputs": [
        {
          "output_type": "stream",
          "name": "stdout",
          "text": [
            "\u001b[1m313/313\u001b[0m \u001b[32m━━━━━━━━━━━━━━━━━━━━\u001b[0m\u001b[37m\u001b[0m \u001b[1m2s\u001b[0m 5ms/step\n",
            "잘못 분류한 테스트 이미지 개수: 1196개\n"
          ]
        },
        {
          "output_type": "display_data",
          "data": {
            "text/plain": [
              "<Figure size 1500x600 with 5 Axes>"
            ],
            "image/png": "[encoded data removed]"
          },
          "metadata": {}
        }
      ]
    }
  ]
}